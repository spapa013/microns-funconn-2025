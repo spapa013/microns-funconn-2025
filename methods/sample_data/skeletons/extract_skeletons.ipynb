{
 "cells": [
  {
   "cell_type": "markdown",
   "id": "5938d755-185e-4f0c-8bb8-de8c13c4ee27",
   "metadata": {},
   "source": [
    "### This notebook only works inside the github.com/cajal/microns-proximities environment and is included for documentation purposes"
   ]
  },
  {
   "cell_type": "code",
   "execution_count": null,
   "id": "955e7c7a-2c20-47b9-89cd-a3f2e01ec0b8",
   "metadata": {},
   "outputs": [],
   "source": [
    "%%capture\n",
    "import numpy as np\n",
    "import pandas as pd\n",
    "from microns_proximities import minnie_proximities as mpx\n",
    "import shutil"
   ]
  },
  {
   "cell_type": "code",
   "execution_count": null,
   "id": "83581102-18ec-453a-a91a-5ba7bb9db4eb",
   "metadata": {},
   "outputs": [],
   "source": [
    "axon_nuc_ids = [327859, 560530, 222998]\n",
    "dend_nuc_ids = [587885, 292965, 587744]"
   ]
  },
  {
   "cell_type": "code",
   "execution_count": null,
   "id": "97718f85-acf4-4eab-96e8-ece211fbb1ed",
   "metadata": {},
   "outputs": [],
   "source": [
    "# navigate datajoint database\n",
    "skeleton_prc_set_rel = mpx.SkeletonProcessedSet & (mpx.ProximitySynapseSet.Info & mpx.ProximitySynapseSetRecommended)\n",
    "skeleton_prc_axon_rel = mpx.SkeletonProcessed.r1p([{'nucleus_id': n} for n in axon_nuc_ids]) & (mpx.SkeletonProcessedSet.Proximity & skeleton_prc_set_rel)\n",
    "skeleton_prc_dend_rel = mpx.SkeletonProcessed.r1p([{'nucleus_id': n} for n in dend_nuc_ids]) & (mpx.SkeletonProcessedSet.Proximity & skeleton_prc_set_rel)\n",
    "skeleton_axon_rel = mpx.Skeleton.r1p(skeleton_prc_axon_rel.proj())\n",
    "skeleton_dend_rel = mpx.Skeleton.r1p(skeleton_prc_dend_rel.proj())\n",
    "\n",
    "# make data lookup df\n",
    "axon_df = pd.DataFrame(skeleton_axon_rel.fetch('KEY', as_dict=True))\n",
    "dend_df = pd.DataFrame(skeleton_dend_rel.fetch('KEY', as_dict=True))\n",
    "axon_df['compartment'] = 'axon'\n",
    "dend_df['compartment'] = 'dend'\n",
    "\n",
    "# get source filepaths\n",
    "axon_src_dict, _ = mpx.Skeleton.get_filepath(axon_df, source='MeshworkAxonDendrite', compartment='axon')\n",
    "_, dend_src_dict = mpx.Skeleton.get_filepath(dend_df, source='AutoProofreadNeuron', compartment='dendrite')\n",
    "\n",
    "# prepare skeleton lookup df\n",
    "df = pd.concat([axon_df, dend_df])\n",
    "df['filename'] = df.apply(lambda r: f\"skeleton_{r.compartment}_{r.nucleus_id}.npz\", axis=1)"
   ]
  },
  {
   "cell_type": "code",
   "execution_count": null,
   "id": "97a26f80-7e84-4bf8-8b9e-ec99019bd3a0",
   "metadata": {},
   "outputs": [],
   "source": [
    "# copy and rename skeleton files\n",
    "for row in df.itertuples():\n",
    "    if row.compartment == 'axon':\n",
    "        shutil.copy(axon_src_dict[row.skeleton_id], row.filename)\n",
    "    elif row.compartment == 'dend':\n",
    "        shutil.copy(dend_src_dict[row.skeleton_id], row.filename)\n",
    "\n",
    "df.to_csv('skeleton_lookup.csv', index=False) # save skeleton info dataframe as csv"
   ]
  }
 ],
 "metadata": {
  "kernelspec": {
   "display_name": "Python 3 (ipykernel)",
   "language": "python",
   "name": "python3"
  },
  "language_info": {
   "codemirror_mode": {
    "name": "ipython",
    "version": 3
   },
   "file_extension": ".py",
   "mimetype": "text/x-python",
   "name": "python",
   "nbconvert_exporter": "python",
   "pygments_lexer": "ipython3",
   "version": "3.8.20"
  }
 },
 "nbformat": 4,
 "nbformat_minor": 5
}
